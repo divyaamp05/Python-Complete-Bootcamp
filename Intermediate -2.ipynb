{
 "cells": [
  {
   "cell_type": "markdown",
   "id": "af5824ca",
   "metadata": {},
   "source": [
    "## Functions"
   ]
  },
  {
   "cell_type": "code",
   "execution_count": 1,
   "id": "452a13cc",
   "metadata": {},
   "outputs": [
    {
     "name": "stdout",
     "output_type": "stream",
     "text": [
      "Hello\n",
      "Good Morning\n",
      "Hello\n",
      "Good Morning\n"
     ]
    }
   ],
   "source": [
    "def greet():\n",
    "    print(\"Hello\")\n",
    "    print(\"Good Morning\")\n",
    "greet()\n",
    "greet()"
   ]
  },
  {
   "cell_type": "code",
   "execution_count": 2,
   "id": "0566df05",
   "metadata": {},
   "outputs": [
    {
     "name": "stdout",
     "output_type": "stream",
     "text": [
      "7 -1\n"
     ]
    }
   ],
   "source": [
    "def add_sub(a,b):\n",
    "    c=a+b\n",
    "    d=a-b\n",
    "    return c,d\n",
    "c,d=add_sub(3,4)\n",
    "print(c,d)\n"
   ]
  },
  {
   "cell_type": "code",
   "execution_count": 4,
   "id": "d8d419b3",
   "metadata": {},
   "outputs": [
    {
     "name": "stdout",
     "output_type": "stream",
     "text": [
      "12 0.75\n"
     ]
    }
   ],
   "source": [
    "def mult_div(a,b):\n",
    "    c=a*b\n",
    "    d=a/b\n",
    "    print(c,d)\n",
    "mult_div(3,4)"
   ]
  },
  {
   "cell_type": "code",
   "execution_count": 5,
   "id": "9ce9e22e",
   "metadata": {},
   "outputs": [
    {
     "name": "stdout",
     "output_type": "stream",
     "text": [
      "9\n",
      "90\n"
     ]
    }
   ],
   "source": [
    "def update(x):\n",
    "    print(x)\n",
    "    x=90\n",
    "    print(x)\n",
    "update(9)    "
   ]
  },
  {
   "cell_type": "markdown",
   "id": "39a3588c",
   "metadata": {},
   "source": [
    "### Global and Local Scope"
   ]
  },
  {
   "cell_type": "code",
   "execution_count": 17,
   "id": "f8d18d7f",
   "metadata": {},
   "outputs": [
    {
     "name": "stdout",
     "output_type": "stream",
     "text": [
      "Inside: 15\n",
      "Outside: 10\n"
     ]
    }
   ],
   "source": [
    "a=10\n",
    "def var(a):\n",
    "    a=15\n",
    "    print(\"Inside:\",a)\n",
    "    \n",
    "var(a)    \n",
    "print(\"Outside:\",a)"
   ]
  },
  {
   "cell_type": "code",
   "execution_count": 20,
   "id": "5a72d4cf",
   "metadata": {},
   "outputs": [
    {
     "name": "stdout",
     "output_type": "stream",
     "text": [
      "Inside: 10\n",
      "Outside: 10\n"
     ]
    }
   ],
   "source": [
    "a=10\n",
    "def var(a):\n",
    "    print(\"Inside:\",a)\n",
    "    \n",
    "var(a)    \n",
    "print(\"Outside:\",a)"
   ]
  },
  {
   "cell_type": "code",
   "execution_count": 19,
   "id": "35b3bc67",
   "metadata": {},
   "outputs": [
    {
     "ename": "SyntaxError",
     "evalue": "name 'a' is parameter and global (4126802659.py, line 3)",
     "output_type": "error",
     "traceback": [
      "\u001b[1;36m  Cell \u001b[1;32mIn[19], line 3\u001b[1;36m\u001b[0m\n\u001b[1;33m    global a\u001b[0m\n\u001b[1;37m    ^\u001b[0m\n\u001b[1;31mSyntaxError\u001b[0m\u001b[1;31m:\u001b[0m name 'a' is parameter and global\n"
     ]
    }
   ],
   "source": [
    "a=10\n",
    "def var(a):\n",
    "    global a\n",
    "    a=15\n",
    "    print(\"Inside:\",a)\n",
    "    \n",
    "var(a)    \n",
    "print(\"Outside:\",a)"
   ]
  },
  {
   "cell_type": "markdown",
   "id": "7313a33e",
   "metadata": {},
   "source": [
    "## Arguments"
   ]
  },
  {
   "cell_type": "markdown",
   "id": "ddd99b3e",
   "metadata": {},
   "source": [
    "### Formal Arguments\n",
    "### 1.Position Arguments"
   ]
  },
  {
   "cell_type": "code",
   "execution_count": 7,
   "id": "af86e431",
   "metadata": {},
   "outputs": [
    {
     "name": "stdout",
     "output_type": "stream",
     "text": [
      "Divya 18\n"
     ]
    }
   ],
   "source": [
    "def person(name,age):\n",
    "    print(name,age)\n",
    "person(\"Divya\",18)    "
   ]
  },
  {
   "cell_type": "markdown",
   "id": "3bf45351",
   "metadata": {},
   "source": [
    "### 2.keyword Arguments"
   ]
  },
  {
   "cell_type": "code",
   "execution_count": 10,
   "id": "d95d58c1",
   "metadata": {},
   "outputs": [
    {
     "name": "stdout",
     "output_type": "stream",
     "text": [
      "Divya 18\n"
     ]
    }
   ],
   "source": [
    "def person(name,age):\n",
    "    print(name,age)\n",
    "person(age=18,name=\"Divya\")    "
   ]
  },
  {
   "cell_type": "markdown",
   "id": "920ca869",
   "metadata": {},
   "source": [
    "### 3.Default Arguments"
   ]
  },
  {
   "cell_type": "code",
   "execution_count": 11,
   "id": "324eadca",
   "metadata": {},
   "outputs": [
    {
     "name": "stdout",
     "output_type": "stream",
     "text": [
      "Divya 18\n"
     ]
    }
   ],
   "source": [
    "def person(name,age=18):\n",
    "    print(name,age)\n",
    "person(name=\"Divya\")  "
   ]
  },
  {
   "cell_type": "markdown",
   "id": "caf635c4",
   "metadata": {},
   "source": [
    "### 4.Variable length Arguments"
   ]
  },
  {
   "cell_type": "code",
   "execution_count": null,
   "id": "21994fa3",
   "metadata": {},
   "outputs": [],
   "source": []
  },
  {
   "cell_type": "markdown",
   "id": "71b88128",
   "metadata": {},
   "source": [
    "## Program-1"
   ]
  },
  {
   "cell_type": "code",
   "execution_count": 27,
   "id": "cf2d8208",
   "metadata": {},
   "outputs": [
    {
     "name": "stdout",
     "output_type": "stream",
     "text": [
      "4 6\n"
     ]
    }
   ],
   "source": [
    " def count(list):\n",
    "        even=0\n",
    "        odd=0\n",
    "        for i in list:\n",
    "            if(i%2==0):\n",
    "                even+=1\n",
    "            else:\n",
    "                odd+=1\n",
    "        return even,odd   \n",
    "                \n",
    "list=[2,3,4,5,3,4,5,4,67,35]   \n",
    "even,odd=count(list)\n",
    "print(even,odd)"
   ]
  },
  {
   "cell_type": "markdown",
   "id": "26f3ee0a",
   "metadata": {},
   "source": [
    "## Program-2"
   ]
  },
  {
   "cell_type": "code",
   "execution_count": 1,
   "id": "150bb5e0",
   "metadata": {},
   "outputs": [
    {
     "name": "stdout",
     "output_type": "stream",
     "text": [
      "['Seetal', 'Payal', 'palak', 'Faria']\n"
     ]
    }
   ],
   "source": [
    " def count(list):\n",
    "        list1=[]\n",
    "        for i in list:\n",
    "            if(len(i)>=5):\n",
    "                list1.append(i)\n",
    "        return list1        \n",
    "                 \n",
    "                \n",
    "list=[\"Riya\",\"Seetal\",\"Payal\",\"palak\",\"Faria\"]   \n",
    "list1=count(list)\n",
    "print(list1)"
   ]
  },
  {
   "cell_type": "markdown",
   "id": "2b1d3d08",
   "metadata": {},
   "source": [
    "## Program-3"
   ]
  },
  {
   "cell_type": "code",
   "execution_count": 5,
   "id": "d9a9398f",
   "metadata": {},
   "outputs": [
    {
     "name": "stdout",
     "output_type": "stream",
     "text": [
      "120\n"
     ]
    }
   ],
   "source": [
    "def fact(n):\n",
    "    result=1\n",
    "    for i in range(1,n):\n",
    "        n=n*i\n",
    "    return n\n",
    "\n",
    "n=fact(5)\n",
    "print(n)"
   ]
  },
  {
   "cell_type": "markdown",
   "id": "83bd632d",
   "metadata": {},
   "source": [
    "### Recursions"
   ]
  },
  {
   "cell_type": "markdown",
   "id": "d5a66eda",
   "metadata": {},
   "source": [
    "## Program-1"
   ]
  },
  {
   "cell_type": "code",
   "execution_count": 7,
   "id": "269d9672",
   "metadata": {},
   "outputs": [
    {
     "name": "stdout",
     "output_type": "stream",
     "text": [
      "factorial of a number is: 24\n"
     ]
    }
   ],
   "source": [
    "def fact(n):\n",
    "    if(n==0 or n==1):\n",
    "        return 1\n",
    "    else:\n",
    "        return n*fact(n-1)\n",
    "x=fact(4)   \n",
    "print(\"factorial of a number is:\",x)      "
   ]
  },
  {
   "cell_type": "markdown",
   "id": "339f518f",
   "metadata": {},
   "source": [
    "## Program-2"
   ]
  },
  {
   "cell_type": "code",
   "execution_count": 19,
   "id": "e4b2aeef",
   "metadata": {},
   "outputs": [
    {
     "name": "stdout",
     "output_type": "stream",
     "text": [
      "0\n",
      "1\n",
      "1\n",
      "2\n",
      "3\n",
      "5\n",
      "8\n",
      "13\n"
     ]
    }
   ],
   "source": [
    "def fib(m):\n",
    "    if(m==1):\n",
    "        print(1)\n",
    "    elif(m<0):\n",
    "        print(\"Invalid number\")\n",
    "    else:    \n",
    "        a=0\n",
    "        b=1\n",
    "        for i in range(m):\n",
    "            print(a)\n",
    "            r=a+b\n",
    "            a=b\n",
    "            b=r     \n",
    "    \n",
    "fib(8)    "
   ]
  },
  {
   "cell_type": "markdown",
   "id": "f818efdb",
   "metadata": {},
   "source": [
    "### Lambda Functions"
   ]
  },
  {
   "cell_type": "code",
   "execution_count": 9,
   "id": "73e81e8d",
   "metadata": {},
   "outputs": [
    {
     "name": "stdout",
     "output_type": "stream",
     "text": [
      "6\n"
     ]
    }
   ],
   "source": [
    "f=lambda a,b:a+b\n",
    "result=f(2,4)\n",
    "print(result)"
   ]
  },
  {
   "cell_type": "code",
   "execution_count": 10,
   "id": "74ccb5ba",
   "metadata": {},
   "outputs": [
    {
     "name": "stdout",
     "output_type": "stream",
     "text": [
      "36\n"
     ]
    }
   ],
   "source": [
    "f=lambda a:a*a\n",
    "result=f(6)\n",
    "print(result)"
   ]
  },
  {
   "cell_type": "markdown",
   "id": "588df3db",
   "metadata": {},
   "source": [
    "### Filter map Reduce Functions"
   ]
  },
  {
   "cell_type": "code",
   "execution_count": 23,
   "id": "e15eafde",
   "metadata": {},
   "outputs": [
    {
     "ename": "TypeError",
     "evalue": "'list' object is not callable",
     "output_type": "error",
     "traceback": [
      "\u001b[1;31m---------------------------------------------------------------------------\u001b[0m",
      "\u001b[1;31mTypeError\u001b[0m                                 Traceback (most recent call last)",
      "Cell \u001b[1;32mIn[23], line 2\u001b[0m\n\u001b[0;32m      1\u001b[0m nums\u001b[38;5;241m=\u001b[39m[\u001b[38;5;241m2\u001b[39m,\u001b[38;5;241m3\u001b[39m,\u001b[38;5;241m4\u001b[39m,\u001b[38;5;241m6\u001b[39m,\u001b[38;5;241m44\u001b[39m,\u001b[38;5;241m53\u001b[39m,\u001b[38;5;241m43\u001b[39m,\u001b[38;5;241m89\u001b[39m,\u001b[38;5;241m544\u001b[39m,\u001b[38;5;241m65\u001b[39m]\n\u001b[1;32m----> 2\u001b[0m evens\u001b[38;5;241m=\u001b[39m\u001b[38;5;28mlist\u001b[39m(\u001b[38;5;28mfilter\u001b[39m(\u001b[38;5;28;01mlambda\u001b[39;00m n:n\u001b[38;5;241m%\u001b[39m\u001b[38;5;241m2\u001b[39m\u001b[38;5;241m==\u001b[39m\u001b[38;5;241m0\u001b[39m,nums))\n\u001b[0;32m      3\u001b[0m \u001b[38;5;28mprint\u001b[39m(evens)\n\u001b[0;32m      4\u001b[0m doubles\u001b[38;5;241m=\u001b[39m\u001b[38;5;28mlist\u001b[39m(\u001b[38;5;28mmap\u001b[39m(\u001b[38;5;28;01mlambda\u001b[39;00m n:n\u001b[38;5;241m*\u001b[39m\u001b[38;5;241m2\u001b[39m,l))\n",
      "\u001b[1;31mTypeError\u001b[0m: 'list' object is not callable"
     ]
    }
   ],
   "source": [
    "nums=[2,3,4,6,44,53,43,89,544,65]\n",
    "evens=list(filter(lambda n:n%2==0,nums))\n",
    "print(evens)"
   ]
  },
  {
   "cell_type": "code",
   "execution_count": 28,
   "id": "99ea3030",
   "metadata": {},
   "outputs": [
    {
     "ename": "TypeError",
     "evalue": "'list' object is not callable",
     "output_type": "error",
     "traceback": [
      "\u001b[1;31m---------------------------------------------------------------------------\u001b[0m",
      "\u001b[1;31mTypeError\u001b[0m                                 Traceback (most recent call last)",
      "Cell \u001b[1;32mIn[28], line 1\u001b[0m\n\u001b[1;32m----> 1\u001b[0m doubles\u001b[38;5;241m=\u001b[39m\u001b[38;5;28mlist\u001b[39m(\u001b[38;5;28mmap\u001b[39m(\u001b[38;5;28;01mlambda\u001b[39;00m n:n\u001b[38;5;241m*\u001b[39m\u001b[38;5;241m2\u001b[39m,nums))\n\u001b[0;32m      2\u001b[0m \u001b[38;5;28mprint\u001b[39m(doubles)\n",
      "\u001b[1;31mTypeError\u001b[0m: 'list' object is not callable"
     ]
    }
   ],
   "source": [
    "doubles=list(map(lambda n:n*2,nums))\n",
    "print(doubles)"
   ]
  },
  {
   "cell_type": "code",
   "execution_count": 32,
   "id": "184ed2fd",
   "metadata": {},
   "outputs": [
    {
     "name": "stdout",
     "output_type": "stream",
     "text": [
      "154\n"
     ]
    }
   ],
   "source": [
    "from functools import reduce\n",
    "l=[2,3,4,2,3,4,2,56,78]\n",
    "sum=reduce(lambda a,b:a+b,l)\n",
    "print(sum)"
   ]
  },
  {
   "cell_type": "code",
   "execution_count": null,
   "id": "f640d8d8",
   "metadata": {},
   "outputs": [],
   "source": []
  }
 ],
 "metadata": {
  "kernelspec": {
   "display_name": "Python 3 (ipykernel)",
   "language": "python",
   "name": "python3"
  },
  "language_info": {
   "codemirror_mode": {
    "name": "ipython",
    "version": 3
   },
   "file_extension": ".py",
   "mimetype": "text/x-python",
   "name": "python",
   "nbconvert_exporter": "python",
   "pygments_lexer": "ipython3",
   "version": "3.11.5"
  }
 },
 "nbformat": 4,
 "nbformat_minor": 5
}
