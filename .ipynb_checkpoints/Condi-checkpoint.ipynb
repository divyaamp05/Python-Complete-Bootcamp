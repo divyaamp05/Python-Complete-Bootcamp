{
 "cells": [
  {
   "cell_type": "markdown",
   "id": "d3afe23a",
   "metadata": {},
   "source": [
    "# Conditionals"
   ]
  },
  {
   "cell_type": "code",
   "execution_count": 1,
   "id": "85a9df55",
   "metadata": {},
   "outputs": [
    {
     "name": "stdout",
     "output_type": "stream",
     "text": [
      "Two\n",
      "Not Available\n"
     ]
    }
   ],
   "source": [
    "a=2\n",
    "if(a==1):\n",
    "    print(\"One\")\n",
    "if(a==2) :   \n",
    "    print(\"Two\")\n",
    "if(a==3):\n",
    "    print(\"Three\")\n",
    "if(a==4) :   \n",
    "    print(\"Four\")  \n",
    "else:\n",
    "    print(\"Not Available\") "
   ]
  },
  {
   "cell_type": "code",
   "execution_count": 2,
   "id": "b2353013",
   "metadata": {},
   "outputs": [
    {
     "name": "stdout",
     "output_type": "stream",
     "text": [
      "Two\n"
     ]
    }
   ],
   "source": [
    "a=2\n",
    "if(a==1):\n",
    "    print(\"One\")\n",
    "elif(a==2):   \n",
    "    print(\"Two\")\n",
    "elif(a==3):\n",
    "    print(\"Three\")\n",
    "elif(a==4):   \n",
    "    print(\"Four\")  \n",
    "else:\n",
    "    print(\"Not Available\") "
   ]
  },
  {
   "cell_type": "markdown",
   "id": "2ce4cad9",
   "metadata": {},
   "source": [
    "# Loops"
   ]
  },
  {
   "cell_type": "markdown",
   "id": "e1bb4375",
   "metadata": {},
   "source": [
    "### While Loops"
   ]
  },
  {
   "cell_type": "code",
   "execution_count": 3,
   "id": "3cd24d04",
   "metadata": {},
   "outputs": [
    {
     "name": "stdout",
     "output_type": "stream",
     "text": [
      "Telusko Rocks Rocks Rocks Rocks \n",
      "Telusko Rocks Rocks Rocks Rocks \n",
      "Telusko Rocks Rocks Rocks Rocks \n",
      "Telusko Rocks Rocks Rocks Rocks \n"
     ]
    }
   ],
   "source": [
    "i=1\n",
    "j=1\n",
    "while(i<=4):\n",
    "    print(\"Telusko\",end=\" \")\n",
    "    j=1\n",
    "    while(j<=4):\n",
    "        print(\"Rocks\",end=\" \")\n",
    "        j=j+1\n",
    "    print()    \n",
    "    i=i+1"
   ]
  },
  {
   "cell_type": "code",
   "execution_count": 4,
   "id": "61f3a102",
   "metadata": {},
   "outputs": [
    {
     "name": "stdout",
     "output_type": "stream",
     "text": [
      "D\n",
      "I\n",
      "V\n",
      "Y\n",
      "A\n"
     ]
    }
   ],
   "source": [
    "X=\"DIVYA\"\n",
    "for i in X:\n",
    "    print(i)"
   ]
  },
  {
   "cell_type": "code",
   "execution_count": 5,
   "id": "8d45bc1d",
   "metadata": {},
   "outputs": [
    {
     "name": "stdout",
     "output_type": "stream",
     "text": [
      "1\n",
      "2\n",
      "3\n",
      "4\n",
      "5\n",
      "6\n",
      "7\n",
      "8\n",
      "9\n",
      "10\n"
     ]
    }
   ],
   "source": [
    "for t in range(1,11):\n",
    "    print(t)"
   ]
  },
  {
   "cell_type": "code",
   "execution_count": 6,
   "id": "0a0d99f4",
   "metadata": {},
   "outputs": [
    {
     "name": "stdout",
     "output_type": "stream",
     "text": [
      "1\n",
      "3\n",
      "5\n",
      "7\n",
      "9\n"
     ]
    }
   ],
   "source": [
    "for t in range(1,11,2):\n",
    "    print(t)"
   ]
  },
  {
   "cell_type": "markdown",
   "id": "d004cad7",
   "metadata": {},
   "source": [
    "# Break Statements"
   ]
  },
  {
   "cell_type": "code",
   "execution_count": null,
   "id": "14bf6b3b",
   "metadata": {},
   "outputs": [],
   "source": [
    "x=int(input(\"How many candies do you want?\"))\n",
    "a=10\n",
    "i=1\n",
    "while(i<x):\n",
    "    print(\"candy\")\n",
    "    if(i>av):\n",
    "        break\n",
    "    x=x+1"
   ]
  },
  {
   "cell_type": "code",
   "execution_count": null,
   "id": "63099e3b",
   "metadata": {},
   "outputs": [],
   "source": [
    "for i in range(1,101):\n",
    "    if(i%3==0 and i%5==0):\n",
    "        print(i)"
   ]
  },
  {
   "cell_type": "code",
   "execution_count": null,
   "id": "968ee51f",
   "metadata": {},
   "outputs": [],
   "source": [
    "i=1\n",
    "while(i<=5):\n",
    "    if(i==3):\n",
    "        break\n",
    "    print(\"Hello\",i)"
   ]
  },
  {
   "cell_type": "markdown",
   "id": "789b245a",
   "metadata": {},
   "source": [
    "# Continue Statements"
   ]
  },
  {
   "cell_type": "code",
   "execution_count": null,
   "id": "ad8ecc62",
   "metadata": {},
   "outputs": [],
   "source": [
    "i=1\n",
    "while(i<=5):\n",
    "    if(i==3):\n",
    "        continue\n",
    "    print(\"Hello\",i)"
   ]
  },
  {
   "cell_type": "code",
   "execution_count": null,
   "id": "3719345c",
   "metadata": {},
   "outputs": [],
   "source": [
    "list=[2,3,53,45,78,22,5,3,55]\n",
    "for i in list:\n",
    "    if(i%5==0):\n",
    "        print(i)\n",
    "else:\n",
    "    print(\"Element not found\")"
   ]
  },
  {
   "cell_type": "markdown",
   "id": "94e3f8d3",
   "metadata": {},
   "source": [
    "# Arrays"
   ]
  },
  {
   "cell_type": "code",
   "execution_count": null,
   "id": "b98ff111",
   "metadata": {},
   "outputs": [],
   "source": [
    "import array as a\n",
    "v=a.array('i',[1,2,3,4,6,8])\n",
    "print(v)"
   ]
  },
  {
   "cell_type": "code",
   "execution_count": null,
   "id": "cea19d1e",
   "metadata": {},
   "outputs": [],
   "source": [
    "for i in v:\n",
    "    print(i)"
   ]
  },
  {
   "cell_type": "code",
   "execution_count": null,
   "id": "d0576421",
   "metadata": {},
   "outputs": [],
   "source": [
    "import array as a\n",
    "v=a.array('i',[])\n",
    "x=int(input(\"Enter the no.of array elements:\"))\n",
    "for i in range(x):\n",
    "    i=int(input(\"\"))\n",
    "    x.append(i)\n",
    "print(v)"
   ]
  },
  {
   "cell_type": "code",
   "execution_count": null,
   "id": "aa9fb0fd",
   "metadata": {},
   "outputs": [],
   "source": []
  }
 ],
 "metadata": {
  "kernelspec": {
   "display_name": "Python 3 (ipykernel)",
   "language": "python",
   "name": "python3"
  },
  "language_info": {
   "codemirror_mode": {
    "name": "ipython",
    "version": 3
   },
   "file_extension": ".py",
   "mimetype": "text/x-python",
   "name": "python",
   "nbconvert_exporter": "python",
   "pygments_lexer": "ipython3",
   "version": "3.11.5"
  }
 },
 "nbformat": 4,
 "nbformat_minor": 5
}
